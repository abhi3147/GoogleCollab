{
  "cells": [
    {
      "cell_type": "markdown",
      "metadata": {
        "id": "view-in-github",
        "colab_type": "text"
      },
      "source": [
        "<a href=\"https://colab.research.google.com/github/abhi3147/GoogleCollab/blob/main/Copy_of_Welcome_to_Colaboratory.ipynb\" target=\"_parent\"><img src=\"https://colab.research.google.com/assets/colab-badge.svg\" alt=\"Open In Colab\"/></a>"
      ]
    },
    {
      "cell_type": "markdown",
      "source": [
        "### 5 March 2023"
      ],
      "metadata": {
        "id": "YPCdPw0RnN79"
      }
    },
    {
      "cell_type": "code",
      "source": [
        "#opening a file\n",
        "myfile = open(\"a.txt\",\"r\")\n",
        "print(myfile.read())"
      ],
      "metadata": {
        "id": "UuhygpjXW1hL"
      },
      "execution_count": null,
      "outputs": []
    },
    {
      "cell_type": "code",
      "source": [
        "myfile=open(\"a.txt\",\"a\")\n",
        "myfile.write(\"this is written by the programmar\")\n"
      ],
      "metadata": {
        "id": "IwL9PCnnXt0o",
        "outputId": "510bffa0-4a50-4d3c-ed76-18c26e7f5976",
        "colab": {
          "base_uri": "https://localhost:8080/"
        }
      },
      "execution_count": null,
      "outputs": [
        {
          "output_type": "execute_result",
          "data": {
            "text/plain": [
              "33"
            ]
          },
          "metadata": {},
          "execution_count": 16
        }
      ]
    },
    {
      "cell_type": "code",
      "source": [
        "myfile2=open(\"a.txt\",\"r\")\n",
        "print(myfile2.read())"
      ],
      "metadata": {
        "id": "L6fSZV6EYusi",
        "outputId": "9a92fb94-2096-4ca2-f9e7-ee78d8f22a81",
        "colab": {
          "base_uri": "https://localhost:8080/"
        }
      },
      "execution_count": null,
      "outputs": [
        {
          "output_type": "stream",
          "name": "stdout",
          "text": [
            "this is written by the programmarthis is written by the programmarthis is written by the programmarthis is written by the programmarthis is written by the programmar\n"
          ]
        }
      ]
    },
    {
      "cell_type": "code",
      "source": [
        "#Context Manager\n",
        "with open(\"a.txt\") as file1:\n",
        "  print(file1.read())"
      ],
      "metadata": {
        "id": "eXtN84OWY6MZ",
        "outputId": "27340864-2552-4783-e98b-89b27c870c3c",
        "colab": {
          "base_uri": "https://localhost:8080/"
        }
      },
      "execution_count": null,
      "outputs": [
        {
          "output_type": "stream",
          "name": "stdout",
          "text": [
            "this is written by the programmarthis is written by the programmarthis is written by the programmarthis is written by the programmarthis is written by the programmar\n"
          ]
        }
      ]
    },
    {
      "cell_type": "code",
      "source": [
        "mylines=[\"Good Evening \\n\",\"Welcome back to the class\"]\n",
        "with open(\"a.txt\",\"w\") as file:\n",
        "  file.writelines(mylines)"
      ],
      "metadata": {
        "id": "zZ0L1hCPZbaQ"
      },
      "execution_count": null,
      "outputs": []
    },
    {
      "cell_type": "code",
      "source": [
        "with open(\"a.txt\",\"r\") as file2:\n",
        "  print(file2.read())"
      ],
      "metadata": {
        "id": "VLIJmJyJZ-Cy",
        "outputId": "43dd044d-7ad9-4db0-e919-290e2a6d03f1",
        "colab": {
          "base_uri": "https://localhost:8080/"
        }
      },
      "execution_count": null,
      "outputs": [
        {
          "output_type": "stream",
          "name": "stdout",
          "text": [
            "Good Evening \n",
            "Welcome back to the class\n"
          ]
        }
      ]
    },
    {
      "cell_type": "code",
      "source": [
        "a=int(input(\"Enter 1st number :\"))\n",
        "b=int(input(\"Enter 2nd number :\"))\n",
        "sign=input(\"Enter the operation : \")\n",
        "if sign=='+':\n",
        "  c=(f\"Result is {str(a+b)}\")\n",
        "elif sign=='-':\n",
        " c=str(a-b)\n",
        "elif sign=='*':\n",
        "  c=str(a*b)\n",
        "elif sign=='/':\n",
        "  c=str(a/b)\n",
        "else:\n",
        "  print(\"Operation not possible\")\n",
        "with open(\"b.txt\",\"w\") as file3:\n",
        "  file3.write(c)"
      ],
      "metadata": {
        "id": "RXiP0aJvaXly",
        "outputId": "7aa3ce72-41aa-4f20-efc0-aa6faeac5ee3",
        "colab": {
          "base_uri": "https://localhost:8080/"
        }
      },
      "execution_count": null,
      "outputs": [
        {
          "name": "stdout",
          "output_type": "stream",
          "text": [
            "Enter 1st number :3\n",
            "Enter 2nd number :8\n",
            "Enter the operation : +\n"
          ]
        }
      ]
    },
    {
      "cell_type": "code",
      "source": [
        "with open(\"b.txt\",\"r\") as file4:\n",
        "  print(file4.read())"
      ],
      "metadata": {
        "id": "73lNAq_caxl1",
        "outputId": "1f968476-3853-4826-cfb7-3cb94a1f8701",
        "colab": {
          "base_uri": "https://localhost:8080/"
        }
      },
      "execution_count": null,
      "outputs": [
        {
          "output_type": "stream",
          "name": "stdout",
          "text": [
            "Result is 11\n"
          ]
        }
      ]
    },
    {
      "cell_type": "code",
      "source": [
        "#String Formating\n",
        "#% Operator \n",
        "#.format()\n",
        "#fstring\n",
        "#string template class\n",
        "#1.Create a 2 examples for each data type\n",
        "#2.different types of mode\n",
        "#3.A Simple calculator\n",
        "#4.String Template class\n",
        "\n",
        "print(\"hello %s ALL %s\" %('welcome',\"Thank you\"))"
      ],
      "metadata": {
        "id": "L1_fIjavbQLS",
        "outputId": "9c84285a-5b3e-44b4-8782-2daada8d2be8",
        "colab": {
          "base_uri": "https://localhost:8080/"
        }
      },
      "execution_count": null,
      "outputs": [
        {
          "output_type": "stream",
          "name": "stdout",
          "text": [
            "hello welcome ALL Thank you\n"
          ]
        }
      ]
    },
    {
      "cell_type": "code",
      "source": [
        "print(\"hello {1} ALL {0}\" .format('welcome',\"Thank you\"))"
      ],
      "metadata": {
        "id": "rvb7Efk2eAbg",
        "outputId": "67d65f51-bd41-490f-d51a-4885c6c6560a",
        "colab": {
          "base_uri": "https://localhost:8080/"
        }
      },
      "execution_count": null,
      "outputs": [
        {
          "output_type": "stream",
          "name": "stdout",
          "text": [
            "hello Thank you ALL welcome\n"
          ]
        }
      ]
    },
    {
      "cell_type": "code",
      "source": [
        "#exception handling in python\n",
        "print(x)"
      ],
      "metadata": {
        "id": "uSvDlAI8eL67",
        "outputId": "4226b251-8848-49c6-f375-184f7731607b",
        "colab": {
          "base_uri": "https://localhost:8080/",
          "height": 182
        }
      },
      "execution_count": null,
      "outputs": [
        {
          "output_type": "error",
          "ename": "NameError",
          "evalue": "ignored",
          "traceback": [
            "\u001b[0;31m---------------------------------------------------------------------------\u001b[0m",
            "\u001b[0;31mNameError\u001b[0m                                 Traceback (most recent call last)",
            "\u001b[0;32m<ipython-input-60-abb087d985b9>\u001b[0m in \u001b[0;36m<module>\u001b[0;34m\u001b[0m\n\u001b[1;32m      1\u001b[0m \u001b[0;31m#exception handling in python\u001b[0m\u001b[0;34m\u001b[0m\u001b[0;34m\u001b[0m\u001b[0;34m\u001b[0m\u001b[0m\n\u001b[0;32m----> 2\u001b[0;31m \u001b[0mprint\u001b[0m\u001b[0;34m(\u001b[0m\u001b[0mx\u001b[0m\u001b[0;34m)\u001b[0m\u001b[0;34m\u001b[0m\u001b[0;34m\u001b[0m\u001b[0m\n\u001b[0m",
            "\u001b[0;31mNameError\u001b[0m: name 'x' is not defined"
          ]
        }
      ]
    },
    {
      "cell_type": "code",
      "source": [
        "list1=[61,3,4,5,6,7]\n",
        "try:\n",
        "  print(list1[0])\n",
        "except:\n",
        "  print(\"An Error Occured.\")\n"
      ],
      "metadata": {
        "id": "-RyJ0F71i7BR",
        "outputId": "011b798d-f80b-4a7f-aa68-78664bb33901",
        "colab": {
          "base_uri": "https://localhost:8080/"
        }
      },
      "execution_count": null,
      "outputs": [
        {
          "output_type": "stream",
          "name": "stdout",
          "text": [
            "An Error Occured.\n"
          ]
        }
      ]
    },
    {
      "cell_type": "code",
      "source": [
        "try:\n",
        "  print(welcome)\n",
        "  print(\"welcome\")\n",
        "except:\n",
        "  print(\"an error occured.\")"
      ],
      "metadata": {
        "id": "7t2FeEq3jznm",
        "outputId": "e5d705d8-7e7b-4b2d-8604-7f57391f4be6",
        "colab": {
          "base_uri": "https://localhost:8080/"
        }
      },
      "execution_count": null,
      "outputs": [
        {
          "output_type": "stream",
          "name": "stdout",
          "text": [
            "an error occured.\n"
          ]
        }
      ]
    },
    {
      "cell_type": "code",
      "source": [
        "try:\n",
        "  num = 10\n",
        "  den = 0\n",
        "  \n",
        "  result=num/den\n",
        "  print(result)\n",
        "except:\n",
        "  print(\"Error Occured.\")\n"
      ],
      "metadata": {
        "id": "Z2zBIOYrk_wf",
        "outputId": "5b18d2f9-0bbf-4894-d989-ef55baf17e78",
        "colab": {
          "base_uri": "https://localhost:8080/"
        }
      },
      "execution_count": null,
      "outputs": [
        {
          "output_type": "stream",
          "name": "stdout",
          "text": [
            "Error Occured.\n"
          ]
        }
      ]
    },
    {
      "cell_type": "code",
      "source": [
        "li=[5,4]\n",
        "try:\n",
        "  a=len(li)\n",
        "  if((len(li)<=3)):\n",
        "    print(a)\n",
        "  print(\"The condition is true\")\n",
        "except:\n",
        "  print(\"Error Occured\")\n",
        "finally:\n",
        "  print(\"this sentence is printed irrespective of the result.\")"
      ],
      "metadata": {
        "id": "5OOit3dgljVX",
        "outputId": "604fddf1-903f-4da4-867c-0f7abd65b329",
        "colab": {
          "base_uri": "https://localhost:8080/"
        }
      },
      "execution_count": null,
      "outputs": [
        {
          "output_type": "stream",
          "name": "stdout",
          "text": [
            "2\n",
            "The condition is true\n",
            "this sentence is printed irrespective of the result.\n"
          ]
        }
      ]
    },
    {
      "cell_type": "code",
      "source": [
        "try:\n",
        "  print(221/\"hii\")\n",
        "except Exception as e:\n",
        "  print(\"Type of error : \",e)\n"
      ],
      "metadata": {
        "id": "0vCyEtFul5cU",
        "outputId": "c9fb673d-00de-44d0-f34f-b135abd3b151",
        "colab": {
          "base_uri": "https://localhost:8080/"
        }
      },
      "execution_count": null,
      "outputs": [
        {
          "output_type": "stream",
          "name": "stdout",
          "text": [
            "Type of error :  unsupported operand type(s) for /: 'int' and 'str'\n"
          ]
        }
      ]
    },
    {
      "cell_type": "code",
      "source": [
        "try:\n",
        "  y=open(\"a.txt\",\"r\")\n",
        "  print(y.read())\n",
        "except:\n",
        "  print(\"THe file doesn't exist\")"
      ],
      "metadata": {
        "id": "oRG-ANkImAP7"
      },
      "execution_count": null,
      "outputs": []
    },
    {
      "cell_type": "code",
      "source": [
        "#comprehension\n",
        "#list comprehension\n",
        "#dic compreshension\n",
        "#set compreshension\n",
        "#generator compreshension"
      ],
      "metadata": {
        "id": "8z-sOX1-2Cz5"
      },
      "execution_count": null,
      "outputs": []
    },
    {
      "cell_type": "code",
      "source": [
        "mylist=[1,23,4,56,7,8,23]\n",
        "evenlist=[]\n",
        "oddlist=[]\n",
        "for i in mylist:\n",
        "  if i%2== 0:\n",
        "    evenlist.append(i)\n",
        "  else:\n",
        "    oddlist.append(i)\n",
        "\n",
        "print(f\"The even numbers are {evenlist}\")\n",
        "print(f\"The odd numbers are {oddlist}\")"
      ],
      "metadata": {
        "id": "8cPrl2C45naO"
      },
      "execution_count": null,
      "outputs": []
    },
    {
      "cell_type": "code",
      "source": [
        "#list comprehension\n",
        "even=[y for y in mylist if y%2 == 0]\n",
        "print(even)"
      ],
      "metadata": {
        "id": "HV6G3EI75tx0",
        "outputId": "2e35b9b7-1779-48d9-dcee-0b82837039cb",
        "colab": {
          "base_uri": "https://localhost:8080/"
        }
      },
      "execution_count": null,
      "outputs": [
        {
          "output_type": "stream",
          "name": "stdout",
          "text": [
            "[4, 56, 8]\n"
          ]
        }
      ]
    },
    {
      "cell_type": "code",
      "source": [
        "#dic comprehension\n",
        "mydic={}\n",
        "for a in mylist:\n",
        "  mydic[a]=a**2\n",
        "print(mydic)"
      ],
      "metadata": {
        "id": "QT25HT0C6DW0",
        "outputId": "94e1007e-44d2-4144-f1be-1683f2011143",
        "colab": {
          "base_uri": "https://localhost:8080/"
        }
      },
      "execution_count": null,
      "outputs": [
        {
          "output_type": "stream",
          "name": "stdout",
          "text": [
            "{1: 1, 23: 529, 4: 16, 56: 3136, 7: 49, 8: 64}\n"
          ]
        }
      ]
    },
    {
      "cell_type": "code",
      "source": [
        "dic={y: y**2 for y in mylist}\n",
        "print(dic)"
      ],
      "metadata": {
        "id": "8CM7_3w161dI",
        "outputId": "f750821a-753c-4ca0-fbce-a74b5ed4323c",
        "colab": {
          "base_uri": "https://localhost:8080/"
        }
      },
      "execution_count": null,
      "outputs": [
        {
          "output_type": "stream",
          "name": "stdout",
          "text": [
            "{1: 1, 23: 529, 4: 16, 56: 3136, 7: 49, 8: 64}\n"
          ]
        }
      ]
    },
    {
      "cell_type": "code",
      "source": [
        "#set comprehension\n",
        "set1={1,23,4,56,7,8,23}\n",
        "even1=set()\n",
        "print(type(even1))\n",
        "for i in set1:\n",
        "  if i%2==0:\n",
        "    even1.add(i)\n",
        "print(even1)"
      ],
      "metadata": {
        "id": "FTYlR6Wc7gOw",
        "outputId": "724edcd2-0d93-468d-cf7b-3359ae76f239",
        "colab": {
          "base_uri": "https://localhost:8080/"
        }
      },
      "execution_count": null,
      "outputs": [
        {
          "output_type": "stream",
          "name": "stdout",
          "text": [
            "<class 'set'>\n",
            "{8, 56, 4}\n"
          ]
        }
      ]
    },
    {
      "cell_type": "code",
      "source": [
        "even2={y for y in set1 if y%2==0}\n",
        "print(even2)"
      ],
      "metadata": {
        "id": "GG2GMK7D9u8Y",
        "outputId": "55799cbd-4e25-4a73-a0c3-46e9eb090e95",
        "colab": {
          "base_uri": "https://localhost:8080/"
        }
      },
      "execution_count": null,
      "outputs": [
        {
          "output_type": "stream",
          "name": "stdout",
          "text": [
            "{8, 56, 4}\n"
          ]
        }
      ]
    },
    {
      "cell_type": "code",
      "source": [
        "#Generator\n",
        "def mygen(n):\n",
        "  yield n+6-10\n",
        "  yield n+23\n",
        "  yield n*5"
      ],
      "metadata": {
        "id": "E_UFYv58-JKM"
      },
      "execution_count": null,
      "outputs": []
    },
    {
      "cell_type": "code",
      "source": [
        "x=mygen(10)\n",
        "print(next(x))\n",
        "print(next(x))\n"
      ],
      "metadata": {
        "id": "jZa1X2am_ZIZ",
        "outputId": "4c53c104-5dbd-4a10-83f7-d62c4885b9ad",
        "colab": {
          "base_uri": "https://localhost:8080/"
        }
      },
      "execution_count": null,
      "outputs": [
        {
          "output_type": "stream",
          "name": "stdout",
          "text": [
            "6\n",
            "33\n"
          ]
        }
      ]
    },
    {
      "cell_type": "code",
      "source": [
        "for x in mygen(10):\n",
        "  print(x)"
      ],
      "metadata": {
        "id": "70bz6h5-AJJl",
        "outputId": "dbea217c-dde6-4cf4-86dd-7bdaac5a6cf0",
        "colab": {
          "base_uri": "https://localhost:8080/"
        }
      },
      "execution_count": null,
      "outputs": [
        {
          "output_type": "stream",
          "name": "stdout",
          "text": [
            "6\n",
            "33\n",
            "50\n"
          ]
        }
      ]
    },
    {
      "cell_type": "code",
      "source": [
        "#Advance Argument Passing\n",
        "def a(name):\n",
        "  print(\"Hello\",name)\n",
        "print(\"YO\")"
      ],
      "metadata": {
        "id": "7qA8o2rhA5Rw",
        "outputId": "cfd63bc0-4f2f-473c-b0e8-4ca02a763f42",
        "colab": {
          "base_uri": "https://localhost:8080/"
        }
      },
      "execution_count": null,
      "outputs": [
        {
          "output_type": "stream",
          "name": "stdout",
          "text": [
            "YO\n"
          ]
        }
      ]
    },
    {
      "cell_type": "code",
      "source": [
        "#Positional Arguments\n",
        "def details(name,batch,year):\n",
        "  print(\"My name is\",name,'from',batch,'int he year',year)\n",
        "details(\"tom\",\"feb batch\",2023)"
      ],
      "metadata": {
        "id": "iIw14k7JDHCr",
        "outputId": "df4c74be-c846-4579-90ef-b5c06da14899",
        "colab": {
          "base_uri": "https://localhost:8080/"
        }
      },
      "execution_count": null,
      "outputs": [
        {
          "output_type": "stream",
          "name": "stdout",
          "text": [
            "My name is tom from feb batch int he year 2023\n"
          ]
        }
      ]
    },
    {
      "cell_type": "code",
      "source": [
        "#Positional Arguments\n",
        "def details(name,batch,year):\n",
        "  print(\"My name is\",name,'from',batch,'int he year',year)\n",
        "details(\"tom\",year=\"feb batch\",batch=2023)"
      ],
      "metadata": {
        "id": "idxSe1Y7DKJN",
        "outputId": "f891e5a7-367a-4231-fb41-3bbec8ecbf60",
        "colab": {
          "base_uri": "https://localhost:8080/"
        }
      },
      "execution_count": null,
      "outputs": [
        {
          "output_type": "stream",
          "name": "stdout",
          "text": [
            "My name is tom from 2023 int he year feb batch\n"
          ]
        }
      ]
    },
    {
      "cell_type": "code",
      "source": [
        "def details(name=\"Tom\", batch=\"feb\",year):\n",
        "  print('My name is',name, 'from' , batch, 'in the year' , year)\n",
        "details(year=2023)"
      ],
      "metadata": {
        "id": "rGMDjcjPDoyu",
        "outputId": "15f97b72-aebb-4673-c530-03bf7143a361",
        "colab": {
          "base_uri": "https://localhost:8080/",
          "height": 130
        }
      },
      "execution_count": null,
      "outputs": [
        {
          "output_type": "error",
          "ename": "SyntaxError",
          "evalue": "ignored",
          "traceback": [
            "\u001b[0;36m  File \u001b[0;32m\"<ipython-input-162-e1c43dd5118f>\"\u001b[0;36m, line \u001b[0;32m1\u001b[0m\n\u001b[0;31m    def details(name=\"Tom\", batch=\"feb\",year):\u001b[0m\n\u001b[0m                ^\u001b[0m\n\u001b[0;31mSyntaxError\u001b[0m\u001b[0;31m:\u001b[0m non-default argument follows default argument\n"
          ]
        }
      ]
    },
    {
      "cell_type": "code",
      "source": [
        "def details(name, batch,year):\n",
        "  print('My name is',name, 'from' , batch, 'in the year' , year)\n",
        "details(\"tom\",\"feb\",year=2023)"
      ],
      "metadata": {
        "id": "hRegZFoMEgyn",
        "outputId": "7fb89fe6-6351-48dd-d568-415b861ae448",
        "colab": {
          "base_uri": "https://localhost:8080/"
        }
      },
      "execution_count": null,
      "outputs": [
        {
          "output_type": "stream",
          "name": "stdout",
          "text": [
            "My name is tom from feb in the year 2023\n"
          ]
        }
      ]
    }
  ],
  "metadata": {
    "colab": {
      "provenance": [],
      "include_colab_link": true
    },
    "kernelspec": {
      "display_name": "Python 3",
      "name": "python3"
    }
  },
  "nbformat": 4,
  "nbformat_minor": 0
}